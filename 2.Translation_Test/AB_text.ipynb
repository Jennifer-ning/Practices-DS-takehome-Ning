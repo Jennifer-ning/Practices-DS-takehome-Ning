{
 "cells": [
  {
   "attachments": {},
   "cell_type": "markdown",
   "metadata": {},
   "source": [
    "Markdown for Jupter: https://www.ibm.com/docs/en/watson-studio-local/1.2.3?topic=notebooks-markdown-jupyter-cheatsheet <br>\n",
    "Jupyter Notebooks in VS code: https://code.visualstudio.com/docs/datascience/jupyter-notebooks"
   ]
  },
  {
   "cell_type": "code",
   "execution_count": 4,
   "metadata": {},
   "outputs": [],
   "source": [
    "import numpy as np\n",
    "import pandas as pd\n",
    "import matplotlib.pyplot as plt\n",
    "import seaborn as sns\n",
    "from scipy.stats import ttest_ind\n",
    "plt.style.use('ggplot')"
   ]
  },
  {
   "attachments": {},
   "cell_type": "markdown",
   "metadata": {},
   "source": [
    "# Load dataset and understand data information"
   ]
  },
  {
   "cell_type": "code",
   "execution_count": 7,
   "metadata": {},
   "outputs": [
    {
     "data": {
      "text/html": [
       "<div>\n",
       "<style scoped>\n",
       "    .dataframe tbody tr th:only-of-type {\n",
       "        vertical-align: middle;\n",
       "    }\n",
       "\n",
       "    .dataframe tbody tr th {\n",
       "        vertical-align: top;\n",
       "    }\n",
       "\n",
       "    .dataframe thead th {\n",
       "        text-align: right;\n",
       "    }\n",
       "</style>\n",
       "<table border=\"1\" class=\"dataframe\">\n",
       "  <thead>\n",
       "    <tr style=\"text-align: right;\">\n",
       "      <th></th>\n",
       "      <th>user_id</th>\n",
       "      <th>date</th>\n",
       "      <th>source</th>\n",
       "      <th>device</th>\n",
       "      <th>browser_language</th>\n",
       "      <th>ads_channel</th>\n",
       "      <th>browser</th>\n",
       "      <th>conversion</th>\n",
       "      <th>test</th>\n",
       "    </tr>\n",
       "  </thead>\n",
       "  <tbody>\n",
       "    <tr>\n",
       "      <th>0</th>\n",
       "      <td>315281</td>\n",
       "      <td>2015-12-03</td>\n",
       "      <td>Direct</td>\n",
       "      <td>Web</td>\n",
       "      <td>ES</td>\n",
       "      <td>NaN</td>\n",
       "      <td>IE</td>\n",
       "      <td>1</td>\n",
       "      <td>0</td>\n",
       "    </tr>\n",
       "    <tr>\n",
       "      <th>1</th>\n",
       "      <td>497851</td>\n",
       "      <td>2015-12-04</td>\n",
       "      <td>Ads</td>\n",
       "      <td>Web</td>\n",
       "      <td>ES</td>\n",
       "      <td>Google</td>\n",
       "      <td>IE</td>\n",
       "      <td>0</td>\n",
       "      <td>1</td>\n",
       "    </tr>\n",
       "    <tr>\n",
       "      <th>2</th>\n",
       "      <td>848402</td>\n",
       "      <td>2015-12-04</td>\n",
       "      <td>Ads</td>\n",
       "      <td>Web</td>\n",
       "      <td>ES</td>\n",
       "      <td>Facebook</td>\n",
       "      <td>Chrome</td>\n",
       "      <td>0</td>\n",
       "      <td>0</td>\n",
       "    </tr>\n",
       "    <tr>\n",
       "      <th>3</th>\n",
       "      <td>290051</td>\n",
       "      <td>2015-12-03</td>\n",
       "      <td>Ads</td>\n",
       "      <td>Mobile</td>\n",
       "      <td>Other</td>\n",
       "      <td>Facebook</td>\n",
       "      <td>Android_App</td>\n",
       "      <td>0</td>\n",
       "      <td>1</td>\n",
       "    </tr>\n",
       "    <tr>\n",
       "      <th>4</th>\n",
       "      <td>548435</td>\n",
       "      <td>2015-11-30</td>\n",
       "      <td>Ads</td>\n",
       "      <td>Web</td>\n",
       "      <td>ES</td>\n",
       "      <td>Google</td>\n",
       "      <td>FireFox</td>\n",
       "      <td>0</td>\n",
       "      <td>1</td>\n",
       "    </tr>\n",
       "  </tbody>\n",
       "</table>\n",
       "</div>"
      ],
      "text/plain": [
       "   user_id       date  source  device browser_language ads_channel   \n",
       "0   315281 2015-12-03  Direct     Web               ES         NaN  \\\n",
       "1   497851 2015-12-04     Ads     Web               ES      Google   \n",
       "2   848402 2015-12-04     Ads     Web               ES    Facebook   \n",
       "3   290051 2015-12-03     Ads  Mobile            Other    Facebook   \n",
       "4   548435 2015-11-30     Ads     Web               ES      Google   \n",
       "\n",
       "       browser  conversion  test  \n",
       "0           IE           1     0  \n",
       "1           IE           0     1  \n",
       "2       Chrome           0     0  \n",
       "3  Android_App           0     1  \n",
       "4      FireFox           0     1  "
      ]
     },
     "execution_count": 7,
     "metadata": {},
     "output_type": "execute_result"
    }
   ],
   "source": [
    "test=pd.read_csv('/Users/ningzhang/Study/DataScience_takehome/Practices-DS-takehome-Ning/2.Translation_Test/test_table.csv', parse_dates=['date'])\n",
    "# parse_dates format date data as data format. https://towardsdatascience.com/4-tricks-you-should-know-to-parse-date-columns-with-pandas-read-csv-27355bb2ad0e\n",
    "test.head()"
   ]
  },
  {
   "cell_type": "code",
   "execution_count": 8,
   "metadata": {},
   "outputs": [
    {
     "name": "stdout",
     "output_type": "stream",
     "text": [
      "<class 'pandas.core.frame.DataFrame'>\n",
      "RangeIndex: 453321 entries, 0 to 453320\n",
      "Data columns (total 9 columns):\n",
      " #   Column            Non-Null Count   Dtype         \n",
      "---  ------            --------------   -----         \n",
      " 0   user_id           453321 non-null  int64         \n",
      " 1   date              453321 non-null  datetime64[ns]\n",
      " 2   source            453321 non-null  object        \n",
      " 3   device            453321 non-null  object        \n",
      " 4   browser_language  453321 non-null  object        \n",
      " 5   ads_channel       181877 non-null  object        \n",
      " 6   browser           453321 non-null  object        \n",
      " 7   conversion        453321 non-null  int64         \n",
      " 8   test              453321 non-null  int64         \n",
      "dtypes: datetime64[ns](1), int64(3), object(5)\n",
      "memory usage: 31.1+ MB\n"
     ]
    }
   ],
   "source": [
    "test.info()"
   ]
  },
  {
   "cell_type": "code",
   "execution_count": 9,
   "metadata": {},
   "outputs": [
    {
     "data": {
      "text/html": [
       "<div>\n",
       "<style scoped>\n",
       "    .dataframe tbody tr th:only-of-type {\n",
       "        vertical-align: middle;\n",
       "    }\n",
       "\n",
       "    .dataframe tbody tr th {\n",
       "        vertical-align: top;\n",
       "    }\n",
       "\n",
       "    .dataframe thead th {\n",
       "        text-align: right;\n",
       "    }\n",
       "</style>\n",
       "<table border=\"1\" class=\"dataframe\">\n",
       "  <thead>\n",
       "    <tr style=\"text-align: right;\">\n",
       "      <th></th>\n",
       "      <th>user_id</th>\n",
       "      <th>date</th>\n",
       "      <th>conversion</th>\n",
       "      <th>test</th>\n",
       "    </tr>\n",
       "  </thead>\n",
       "  <tbody>\n",
       "    <tr>\n",
       "      <th>count</th>\n",
       "      <td>453321.000000</td>\n",
       "      <td>453321</td>\n",
       "      <td>453321.000000</td>\n",
       "      <td>453321.000000</td>\n",
       "    </tr>\n",
       "    <tr>\n",
       "      <th>mean</th>\n",
       "      <td>499937.514728</td>\n",
       "      <td>2015-12-02 08:56:07.976334336</td>\n",
       "      <td>0.049579</td>\n",
       "      <td>0.476446</td>\n",
       "    </tr>\n",
       "    <tr>\n",
       "      <th>min</th>\n",
       "      <td>1.000000</td>\n",
       "      <td>2015-11-30 00:00:00</td>\n",
       "      <td>0.000000</td>\n",
       "      <td>0.000000</td>\n",
       "    </tr>\n",
       "    <tr>\n",
       "      <th>25%</th>\n",
       "      <td>249816.000000</td>\n",
       "      <td>2015-12-01 00:00:00</td>\n",
       "      <td>0.000000</td>\n",
       "      <td>0.000000</td>\n",
       "    </tr>\n",
       "    <tr>\n",
       "      <th>50%</th>\n",
       "      <td>500019.000000</td>\n",
       "      <td>2015-12-03 00:00:00</td>\n",
       "      <td>0.000000</td>\n",
       "      <td>0.000000</td>\n",
       "    </tr>\n",
       "    <tr>\n",
       "      <th>75%</th>\n",
       "      <td>749522.000000</td>\n",
       "      <td>2015-12-04 00:00:00</td>\n",
       "      <td>0.000000</td>\n",
       "      <td>1.000000</td>\n",
       "    </tr>\n",
       "    <tr>\n",
       "      <th>max</th>\n",
       "      <td>1000000.000000</td>\n",
       "      <td>2015-12-04 00:00:00</td>\n",
       "      <td>1.000000</td>\n",
       "      <td>1.000000</td>\n",
       "    </tr>\n",
       "    <tr>\n",
       "      <th>std</th>\n",
       "      <td>288665.193436</td>\n",
       "      <td>NaN</td>\n",
       "      <td>0.217073</td>\n",
       "      <td>0.499445</td>\n",
       "    </tr>\n",
       "  </tbody>\n",
       "</table>\n",
       "</div>"
      ],
      "text/plain": [
       "              user_id                           date     conversion   \n",
       "count   453321.000000                         453321  453321.000000  \\\n",
       "mean    499937.514728  2015-12-02 08:56:07.976334336       0.049579   \n",
       "min          1.000000            2015-11-30 00:00:00       0.000000   \n",
       "25%     249816.000000            2015-12-01 00:00:00       0.000000   \n",
       "50%     500019.000000            2015-12-03 00:00:00       0.000000   \n",
       "75%     749522.000000            2015-12-04 00:00:00       0.000000   \n",
       "max    1000000.000000            2015-12-04 00:00:00       1.000000   \n",
       "std     288665.193436                            NaN       0.217073   \n",
       "\n",
       "                test  \n",
       "count  453321.000000  \n",
       "mean        0.476446  \n",
       "min         0.000000  \n",
       "25%         0.000000  \n",
       "50%         0.000000  \n",
       "75%         1.000000  \n",
       "max         1.000000  \n",
       "std         0.499445  "
      ]
     },
     "execution_count": 9,
     "metadata": {},
     "output_type": "execute_result"
    }
   ],
   "source": [
    "test.describe()"
   ]
  },
  {
   "cell_type": "code",
   "execution_count": 12,
   "metadata": {},
   "outputs": [
    {
     "data": {
      "text/plain": [
       "user_id                  0\n",
       "date                     0\n",
       "source                   0\n",
       "device                   0\n",
       "browser_language         0\n",
       "ads_channel         271444\n",
       "browser                  0\n",
       "conversion               0\n",
       "test                     0\n",
       "dtype: int64"
      ]
     },
     "execution_count": 12,
     "metadata": {},
     "output_type": "execute_result"
    }
   ],
   "source": [
    "# check null data\n",
    "test.isnull().sum()"
   ]
  },
  {
   "cell_type": "code",
   "execution_count": 17,
   "metadata": {},
   "outputs": [
    {
     "name": "stdout",
     "output_type": "stream",
     "text": [
      "user_id , 453321 , [315281 497851 848402 290051 548435]\n",
      "date , 5 , <DatetimeArray>\n",
      "['2015-12-03 00:00:00', '2015-12-04 00:00:00', '2015-11-30 00:00:00',\n",
      " '2015-12-01 00:00:00', '2015-12-02 00:00:00']\n",
      "Length: 5, dtype: datetime64[ns]\n",
      "source , 3 , ['Direct' 'Ads' 'SEO']\n",
      "device , 2 , ['Web' 'Mobile']\n",
      "browser_language , 3 , ['ES' 'Other' 'EN']\n",
      "ads_channel , 6 , [nan 'Google' 'Facebook' 'Bing' 'Yahoo']\n",
      "browser , 7 , ['IE' 'Chrome' 'Android_App' 'FireFox' 'Iphone_App']\n",
      "conversion , 2 , [1 0]\n",
      "test , 2 , [0 1]\n"
     ]
    }
   ],
   "source": [
    "# understand the values of each column\n",
    "for col in test.columns:\n",
    "    uniques=test[col].unique()\n",
    "    print(col, ',', len(uniques),',',  uniques[:5])"
   ]
  },
  {
   "cell_type": "code",
   "execution_count": 18,
   "metadata": {},
   "outputs": [
    {
     "data": {
      "text/html": [
       "<div>\n",
       "<style scoped>\n",
       "    .dataframe tbody tr th:only-of-type {\n",
       "        vertical-align: middle;\n",
       "    }\n",
       "\n",
       "    .dataframe tbody tr th {\n",
       "        vertical-align: top;\n",
       "    }\n",
       "\n",
       "    .dataframe thead th {\n",
       "        text-align: right;\n",
       "    }\n",
       "</style>\n",
       "<table border=\"1\" class=\"dataframe\">\n",
       "  <thead>\n",
       "    <tr style=\"text-align: right;\">\n",
       "      <th></th>\n",
       "      <th>user_id</th>\n",
       "      <th>sex</th>\n",
       "      <th>age</th>\n",
       "      <th>country</th>\n",
       "    </tr>\n",
       "  </thead>\n",
       "  <tbody>\n",
       "    <tr>\n",
       "      <th>0</th>\n",
       "      <td>765821</td>\n",
       "      <td>M</td>\n",
       "      <td>20</td>\n",
       "      <td>Mexico</td>\n",
       "    </tr>\n",
       "    <tr>\n",
       "      <th>1</th>\n",
       "      <td>343561</td>\n",
       "      <td>F</td>\n",
       "      <td>27</td>\n",
       "      <td>Nicaragua</td>\n",
       "    </tr>\n",
       "    <tr>\n",
       "      <th>2</th>\n",
       "      <td>118744</td>\n",
       "      <td>M</td>\n",
       "      <td>23</td>\n",
       "      <td>Colombia</td>\n",
       "    </tr>\n",
       "    <tr>\n",
       "      <th>3</th>\n",
       "      <td>987753</td>\n",
       "      <td>F</td>\n",
       "      <td>27</td>\n",
       "      <td>Venezuela</td>\n",
       "    </tr>\n",
       "    <tr>\n",
       "      <th>4</th>\n",
       "      <td>554597</td>\n",
       "      <td>F</td>\n",
       "      <td>20</td>\n",
       "      <td>Spain</td>\n",
       "    </tr>\n",
       "  </tbody>\n",
       "</table>\n",
       "</div>"
      ],
      "text/plain": [
       "   user_id sex  age    country\n",
       "0   765821   M   20     Mexico\n",
       "1   343561   F   27  Nicaragua\n",
       "2   118744   M   23   Colombia\n",
       "3   987753   F   27  Venezuela\n",
       "4   554597   F   20      Spain"
      ]
     },
     "execution_count": 18,
     "metadata": {},
     "output_type": "execute_result"
    }
   ],
   "source": [
    "user=pd.read_csv('/Users/ningzhang/Study/DataScience_takehome/Practices-DS-takehome-Ning/2.Translation_Test/user_table.csv')\n",
    "user.head()"
   ]
  },
  {
   "cell_type": "code",
   "execution_count": 19,
   "metadata": {},
   "outputs": [
    {
     "name": "stdout",
     "output_type": "stream",
     "text": [
      "<class 'pandas.core.frame.DataFrame'>\n",
      "RangeIndex: 452867 entries, 0 to 452866\n",
      "Data columns (total 4 columns):\n",
      " #   Column   Non-Null Count   Dtype \n",
      "---  ------   --------------   ----- \n",
      " 0   user_id  452867 non-null  int64 \n",
      " 1   sex      452867 non-null  object\n",
      " 2   age      452867 non-null  int64 \n",
      " 3   country  452867 non-null  object\n",
      "dtypes: int64(2), object(2)\n",
      "memory usage: 13.8+ MB\n"
     ]
    }
   ],
   "source": [
    "user.info()"
   ]
  },
  {
   "cell_type": "code",
   "execution_count": 20,
   "metadata": {},
   "outputs": [
    {
     "data": {
      "text/html": [
       "<div>\n",
       "<style scoped>\n",
       "    .dataframe tbody tr th:only-of-type {\n",
       "        vertical-align: middle;\n",
       "    }\n",
       "\n",
       "    .dataframe tbody tr th {\n",
       "        vertical-align: top;\n",
       "    }\n",
       "\n",
       "    .dataframe thead th {\n",
       "        text-align: right;\n",
       "    }\n",
       "</style>\n",
       "<table border=\"1\" class=\"dataframe\">\n",
       "  <thead>\n",
       "    <tr style=\"text-align: right;\">\n",
       "      <th></th>\n",
       "      <th>user_id</th>\n",
       "      <th>age</th>\n",
       "    </tr>\n",
       "  </thead>\n",
       "  <tbody>\n",
       "    <tr>\n",
       "      <th>count</th>\n",
       "      <td>452867.000000</td>\n",
       "      <td>452867.000000</td>\n",
       "    </tr>\n",
       "    <tr>\n",
       "      <th>mean</th>\n",
       "      <td>499944.805166</td>\n",
       "      <td>27.130740</td>\n",
       "    </tr>\n",
       "    <tr>\n",
       "      <th>std</th>\n",
       "      <td>288676.264784</td>\n",
       "      <td>6.776678</td>\n",
       "    </tr>\n",
       "    <tr>\n",
       "      <th>min</th>\n",
       "      <td>1.000000</td>\n",
       "      <td>18.000000</td>\n",
       "    </tr>\n",
       "    <tr>\n",
       "      <th>25%</th>\n",
       "      <td>249819.000000</td>\n",
       "      <td>22.000000</td>\n",
       "    </tr>\n",
       "    <tr>\n",
       "      <th>50%</th>\n",
       "      <td>500019.000000</td>\n",
       "      <td>26.000000</td>\n",
       "    </tr>\n",
       "    <tr>\n",
       "      <th>75%</th>\n",
       "      <td>749543.000000</td>\n",
       "      <td>31.000000</td>\n",
       "    </tr>\n",
       "    <tr>\n",
       "      <th>max</th>\n",
       "      <td>1000000.000000</td>\n",
       "      <td>70.000000</td>\n",
       "    </tr>\n",
       "  </tbody>\n",
       "</table>\n",
       "</div>"
      ],
      "text/plain": [
       "              user_id            age\n",
       "count   452867.000000  452867.000000\n",
       "mean    499944.805166      27.130740\n",
       "std     288676.264784       6.776678\n",
       "min          1.000000      18.000000\n",
       "25%     249819.000000      22.000000\n",
       "50%     500019.000000      26.000000\n",
       "75%     749543.000000      31.000000\n",
       "max    1000000.000000      70.000000"
      ]
     },
     "execution_count": 20,
     "metadata": {},
     "output_type": "execute_result"
    }
   ],
   "source": [
    "user.describe()"
   ]
  },
  {
   "cell_type": "code",
   "execution_count": 21,
   "metadata": {},
   "outputs": [
    {
     "data": {
      "text/plain": [
       "user_id    0\n",
       "sex        0\n",
       "age        0\n",
       "country    0\n",
       "dtype: int64"
      ]
     },
     "execution_count": 21,
     "metadata": {},
     "output_type": "execute_result"
    }
   ],
   "source": [
    "user.isnull().sum()"
   ]
  },
  {
   "cell_type": "code",
   "execution_count": 23,
   "metadata": {},
   "outputs": [
    {
     "name": "stdout",
     "output_type": "stream",
     "text": [
      "user_id , 452867 , [765821 343561 118744 987753 554597]\n",
      "sex , 2 , ['M' 'F']\n",
      "age , 52 , [20 27 23 29 31]\n",
      "country , 17 , ['Mexico' 'Nicaragua' 'Colombia' 'Venezuela' 'Spain']\n"
     ]
    }
   ],
   "source": [
    "for col in user.columns:\n",
    "    uniques=user[col].unique()\n",
    "    print(col, ',', len(uniques), ',', uniques[:5])"
   ]
  },
  {
   "attachments": {},
   "cell_type": "markdown",
   "metadata": {},
   "source": [
    "# Merge two tables"
   ]
  },
  {
   "cell_type": "code",
   "execution_count": 25,
   "metadata": {},
   "outputs": [
    {
     "name": "stdout",
     "output_type": "stream",
     "text": [
      "Test users:  453321 True\n",
      "User users:  452867 True\n"
     ]
    }
   ],
   "source": [
    "# check uniqueness\n",
    "print('Test users: ', len(test['user_id'].unique()), len(test['user_id'].unique())==len(test))\n",
    "print('User users: ', len(user['user_id'].unique()), len(user['user_id'].unique())==len(user))"
   ]
  },
  {
   "cell_type": "code",
   "execution_count": 26,
   "metadata": {},
   "outputs": [
    {
     "data": {
      "text/html": [
       "<div>\n",
       "<style scoped>\n",
       "    .dataframe tbody tr th:only-of-type {\n",
       "        vertical-align: middle;\n",
       "    }\n",
       "\n",
       "    .dataframe tbody tr th {\n",
       "        vertical-align: top;\n",
       "    }\n",
       "\n",
       "    .dataframe thead th {\n",
       "        text-align: right;\n",
       "    }\n",
       "</style>\n",
       "<table border=\"1\" class=\"dataframe\">\n",
       "  <thead>\n",
       "    <tr style=\"text-align: right;\">\n",
       "      <th></th>\n",
       "      <th>user_id</th>\n",
       "      <th>date</th>\n",
       "      <th>source</th>\n",
       "      <th>device</th>\n",
       "      <th>browser_language</th>\n",
       "      <th>ads_channel</th>\n",
       "      <th>browser</th>\n",
       "      <th>conversion</th>\n",
       "      <th>test</th>\n",
       "      <th>sex</th>\n",
       "      <th>age</th>\n",
       "      <th>country</th>\n",
       "    </tr>\n",
       "  </thead>\n",
       "  <tbody>\n",
       "    <tr>\n",
       "      <th>0</th>\n",
       "      <td>315281</td>\n",
       "      <td>2015-12-03</td>\n",
       "      <td>Direct</td>\n",
       "      <td>Web</td>\n",
       "      <td>ES</td>\n",
       "      <td>NaN</td>\n",
       "      <td>IE</td>\n",
       "      <td>1</td>\n",
       "      <td>0</td>\n",
       "      <td>M</td>\n",
       "      <td>32.0</td>\n",
       "      <td>Spain</td>\n",
       "    </tr>\n",
       "    <tr>\n",
       "      <th>1</th>\n",
       "      <td>497851</td>\n",
       "      <td>2015-12-04</td>\n",
       "      <td>Ads</td>\n",
       "      <td>Web</td>\n",
       "      <td>ES</td>\n",
       "      <td>Google</td>\n",
       "      <td>IE</td>\n",
       "      <td>0</td>\n",
       "      <td>1</td>\n",
       "      <td>M</td>\n",
       "      <td>21.0</td>\n",
       "      <td>Mexico</td>\n",
       "    </tr>\n",
       "    <tr>\n",
       "      <th>2</th>\n",
       "      <td>848402</td>\n",
       "      <td>2015-12-04</td>\n",
       "      <td>Ads</td>\n",
       "      <td>Web</td>\n",
       "      <td>ES</td>\n",
       "      <td>Facebook</td>\n",
       "      <td>Chrome</td>\n",
       "      <td>0</td>\n",
       "      <td>0</td>\n",
       "      <td>M</td>\n",
       "      <td>34.0</td>\n",
       "      <td>Spain</td>\n",
       "    </tr>\n",
       "    <tr>\n",
       "      <th>3</th>\n",
       "      <td>290051</td>\n",
       "      <td>2015-12-03</td>\n",
       "      <td>Ads</td>\n",
       "      <td>Mobile</td>\n",
       "      <td>Other</td>\n",
       "      <td>Facebook</td>\n",
       "      <td>Android_App</td>\n",
       "      <td>0</td>\n",
       "      <td>1</td>\n",
       "      <td>F</td>\n",
       "      <td>22.0</td>\n",
       "      <td>Mexico</td>\n",
       "    </tr>\n",
       "    <tr>\n",
       "      <th>4</th>\n",
       "      <td>548435</td>\n",
       "      <td>2015-11-30</td>\n",
       "      <td>Ads</td>\n",
       "      <td>Web</td>\n",
       "      <td>ES</td>\n",
       "      <td>Google</td>\n",
       "      <td>FireFox</td>\n",
       "      <td>0</td>\n",
       "      <td>1</td>\n",
       "      <td>M</td>\n",
       "      <td>19.0</td>\n",
       "      <td>Mexico</td>\n",
       "    </tr>\n",
       "  </tbody>\n",
       "</table>\n",
       "</div>"
      ],
      "text/plain": [
       "   user_id       date  source  device browser_language ads_channel   \n",
       "0   315281 2015-12-03  Direct     Web               ES         NaN  \\\n",
       "1   497851 2015-12-04     Ads     Web               ES      Google   \n",
       "2   848402 2015-12-04     Ads     Web               ES    Facebook   \n",
       "3   290051 2015-12-03     Ads  Mobile            Other    Facebook   \n",
       "4   548435 2015-11-30     Ads     Web               ES      Google   \n",
       "\n",
       "       browser  conversion  test sex   age country  \n",
       "0           IE           1     0   M  32.0   Spain  \n",
       "1           IE           0     1   M  21.0  Mexico  \n",
       "2       Chrome           0     0   M  34.0   Spain  \n",
       "3  Android_App           0     1   F  22.0  Mexico  \n",
       "4      FireFox           0     1   M  19.0  Mexico  "
      ]
     },
     "execution_count": 26,
     "metadata": {},
     "output_type": "execute_result"
    }
   ],
   "source": [
    "data=pd.merge(left=test, right=user, how='left', on='user_id')\n",
    "data.head()"
   ]
  },
  {
   "cell_type": "code",
   "execution_count": 27,
   "metadata": {},
   "outputs": [
    {
     "name": "stdout",
     "output_type": "stream",
     "text": [
      "<class 'pandas.core.frame.DataFrame'>\n",
      "RangeIndex: 453321 entries, 0 to 453320\n",
      "Data columns (total 12 columns):\n",
      " #   Column            Non-Null Count   Dtype         \n",
      "---  ------            --------------   -----         \n",
      " 0   user_id           453321 non-null  int64         \n",
      " 1   date              453321 non-null  datetime64[ns]\n",
      " 2   source            453321 non-null  object        \n",
      " 3   device            453321 non-null  object        \n",
      " 4   browser_language  453321 non-null  object        \n",
      " 5   ads_channel       181877 non-null  object        \n",
      " 6   browser           453321 non-null  object        \n",
      " 7   conversion        453321 non-null  int64         \n",
      " 8   test              453321 non-null  int64         \n",
      " 9   sex               452867 non-null  object        \n",
      " 10  age               452867 non-null  float64       \n",
      " 11  country           452867 non-null  object        \n",
      "dtypes: datetime64[ns](1), float64(1), int64(3), object(7)\n",
      "memory usage: 41.5+ MB\n"
     ]
    }
   ],
   "source": [
    "data.info()"
   ]
  },
  {
   "cell_type": "code",
   "execution_count": 28,
   "metadata": {},
   "outputs": [
    {
     "data": {
      "text/html": [
       "<div>\n",
       "<style scoped>\n",
       "    .dataframe tbody tr th:only-of-type {\n",
       "        vertical-align: middle;\n",
       "    }\n",
       "\n",
       "    .dataframe tbody tr th {\n",
       "        vertical-align: top;\n",
       "    }\n",
       "\n",
       "    .dataframe thead th {\n",
       "        text-align: right;\n",
       "    }\n",
       "</style>\n",
       "<table border=\"1\" class=\"dataframe\">\n",
       "  <thead>\n",
       "    <tr style=\"text-align: right;\">\n",
       "      <th></th>\n",
       "      <th>user_id</th>\n",
       "      <th>date</th>\n",
       "      <th>conversion</th>\n",
       "      <th>test</th>\n",
       "      <th>age</th>\n",
       "    </tr>\n",
       "  </thead>\n",
       "  <tbody>\n",
       "    <tr>\n",
       "      <th>count</th>\n",
       "      <td>453321.000000</td>\n",
       "      <td>453321</td>\n",
       "      <td>453321.000000</td>\n",
       "      <td>453321.000000</td>\n",
       "      <td>452867.000000</td>\n",
       "    </tr>\n",
       "    <tr>\n",
       "      <th>mean</th>\n",
       "      <td>499937.514728</td>\n",
       "      <td>2015-12-02 08:56:07.976334336</td>\n",
       "      <td>0.049579</td>\n",
       "      <td>0.476446</td>\n",
       "      <td>27.130740</td>\n",
       "    </tr>\n",
       "    <tr>\n",
       "      <th>min</th>\n",
       "      <td>1.000000</td>\n",
       "      <td>2015-11-30 00:00:00</td>\n",
       "      <td>0.000000</td>\n",
       "      <td>0.000000</td>\n",
       "      <td>18.000000</td>\n",
       "    </tr>\n",
       "    <tr>\n",
       "      <th>25%</th>\n",
       "      <td>249816.000000</td>\n",
       "      <td>2015-12-01 00:00:00</td>\n",
       "      <td>0.000000</td>\n",
       "      <td>0.000000</td>\n",
       "      <td>22.000000</td>\n",
       "    </tr>\n",
       "    <tr>\n",
       "      <th>50%</th>\n",
       "      <td>500019.000000</td>\n",
       "      <td>2015-12-03 00:00:00</td>\n",
       "      <td>0.000000</td>\n",
       "      <td>0.000000</td>\n",
       "      <td>26.000000</td>\n",
       "    </tr>\n",
       "    <tr>\n",
       "      <th>75%</th>\n",
       "      <td>749522.000000</td>\n",
       "      <td>2015-12-04 00:00:00</td>\n",
       "      <td>0.000000</td>\n",
       "      <td>1.000000</td>\n",
       "      <td>31.000000</td>\n",
       "    </tr>\n",
       "    <tr>\n",
       "      <th>max</th>\n",
       "      <td>1000000.000000</td>\n",
       "      <td>2015-12-04 00:00:00</td>\n",
       "      <td>1.000000</td>\n",
       "      <td>1.000000</td>\n",
       "      <td>70.000000</td>\n",
       "    </tr>\n",
       "    <tr>\n",
       "      <th>std</th>\n",
       "      <td>288665.193436</td>\n",
       "      <td>NaN</td>\n",
       "      <td>0.217073</td>\n",
       "      <td>0.499445</td>\n",
       "      <td>6.776678</td>\n",
       "    </tr>\n",
       "  </tbody>\n",
       "</table>\n",
       "</div>"
      ],
      "text/plain": [
       "              user_id                           date     conversion   \n",
       "count   453321.000000                         453321  453321.000000  \\\n",
       "mean    499937.514728  2015-12-02 08:56:07.976334336       0.049579   \n",
       "min          1.000000            2015-11-30 00:00:00       0.000000   \n",
       "25%     249816.000000            2015-12-01 00:00:00       0.000000   \n",
       "50%     500019.000000            2015-12-03 00:00:00       0.000000   \n",
       "75%     749522.000000            2015-12-04 00:00:00       0.000000   \n",
       "max    1000000.000000            2015-12-04 00:00:00       1.000000   \n",
       "std     288665.193436                            NaN       0.217073   \n",
       "\n",
       "                test            age  \n",
       "count  453321.000000  452867.000000  \n",
       "mean        0.476446      27.130740  \n",
       "min         0.000000      18.000000  \n",
       "25%         0.000000      22.000000  \n",
       "50%         0.000000      26.000000  \n",
       "75%         1.000000      31.000000  \n",
       "max         1.000000      70.000000  \n",
       "std         0.499445       6.776678  "
      ]
     },
     "execution_count": 28,
     "metadata": {},
     "output_type": "execute_result"
    }
   ],
   "source": [
    "data.describe()"
   ]
  },
  {
   "cell_type": "code",
   "execution_count": 29,
   "metadata": {},
   "outputs": [
    {
     "data": {
      "text/plain": [
       "user_id                  0\n",
       "date                     0\n",
       "source                   0\n",
       "device                   0\n",
       "browser_language         0\n",
       "ads_channel         271444\n",
       "browser                  0\n",
       "conversion               0\n",
       "test                     0\n",
       "sex                    454\n",
       "age                    454\n",
       "country                454\n",
       "dtype: int64"
      ]
     },
     "execution_count": 29,
     "metadata": {},
     "output_type": "execute_result"
    }
   ],
   "source": [
    "data.isnull().sum()"
   ]
  },
  {
   "attachments": {},
   "cell_type": "markdown",
   "metadata": {},
   "source": [
    "# A/B test"
   ]
  },
  {
   "cell_type": "code",
   "execution_count": 44,
   "metadata": {},
   "outputs": [
    {
     "data": {
      "image/png": "[encoded data removed]",
      "text/plain": [
       "<Figure size 1600x800 with 1 Axes>"
      ]
     },
     "metadata": {},
     "output_type": "display_data"
    }
   ],
   "source": [
    "# Prove that Spain coverts better than other LatAm countries\n",
    "groupby_country=data[data['test']==0][['conversion', 'country']].groupby('country').mean()\n",
    "groupby_country.head()\n",
    "groupby_country=groupby_country.reset_index()\n",
    "groupby_country=groupby_country.sort_values(by='conversion', ascending=False)\n",
    "groupby_country.head()\n",
    "\n",
    "#visualization\n",
    "fig, ax=plt.subplots(figsize=(16,8))\n",
    "sns.barplot(data=groupby_country, x='country', y='conversion', ax=ax)\n",
    "plt.show()"
   ]
  },
  {
   "cell_type": "code",
   "execution_count": 45,
   "metadata": {},
   "outputs": [
    {
     "data": {
      "image/png": "[encoded data removed]",
      "text/plain": [
       "<Figure size 1600x800 with 1 Axes>"
      ]
     },
     "metadata": {},
     "output_type": "display_data"
    }
   ],
   "source": [
    "fig,ax=plt.subplots(figsize=(16,8))\n",
    "sns.barplot(data=data, x='country', y='conversion', hue='test', ax=ax)\n",
    "plt.show()"
   ]
  },
  {
   "cell_type": "code",
   "execution_count": 51,
   "metadata": {},
   "outputs": [
    {
     "name": "stdout",
     "output_type": "stream",
     "text": [
      "<class 'numpy.ndarray'>\n",
      "0.043424713982118966 0.04833042316066309\n",
      "Ttest_indResult(statistic=-7.3939374121344805, pvalue=1.4282994754055316e-13)\n"
     ]
    }
   ],
   "source": [
    "# AB test\n",
    "test_data=data[data['country']!='Spain']\n",
    "test_val=test_data[test_data['test']==1]['conversion'].values\n",
    "cotl_val=test_data[test_data['test']==0]['conversion'].values\n",
    "print(type(test_val))\n",
    "print(test_val.mean(), cotl_val.mean())\n",
    "\n",
    "p_values=ttest_ind(test_val,cotl_val, equal_var=False) # equal_var=False means the two samples have different variance\n",
    "print(p_values)"
   ]
  },
  {
   "attachments": {},
   "cell_type": "markdown",
   "metadata": {},
   "source": [
    "The null hypothsis is that the two independent samples have a identical mean. <br> \n",
    "The p value is big that we can't reject the null hypothese. So the use of local translater can't bring a better conversion."
   ]
  },
  {
   "cell_type": "markdown",
   "metadata": {},
   "source": []
  }
 ],
 "metadata": {
  "kernelspec": {
   "display_name": "spyder-env",
   "language": "python",
   "name": "python3"
  },
  "language_info": {
   "codemirror_mode": {
    "name": "ipython",
    "version": 3
   },
   "file_extension": ".py",
   "mimetype": "text/x-python",
   "name": "python",
   "nbconvert_exporter": "python",
   "pygments_lexer": "ipython3",
   "version": "3.11.3"
  },
  "orig_nbformat": 4
 },
 "nbformat": 4,
 "nbformat_minor": 2
}
